{
  "nbformat": 4,
  "nbformat_minor": 0,
  "metadata": {
    "colab": {
      "provenance": []
    },
    "kernelspec": {
      "name": "python3",
      "display_name": "Python 3"
    },
    "language_info": {
      "name": "python"
    }
  },
  "cells": [
    {
      "cell_type": "code",
      "execution_count": 1,
      "metadata": {
        "id": "4wBdxD5Pj3dW"
      },
      "outputs": [],
      "source": [
        "# operations: melt, merge, pivot using Tips dataset\n",
        "import pandas as pd\n",
        "\n",
        "tips = pd.read_csv('https://raw.githubusercontent.com/mwaskom/seaborn-data/master/tips.csv')"
      ]
    },
    {
      "cell_type": "code",
      "source": [
        "print(tips.head())"
      ],
      "metadata": {
        "colab": {
          "base_uri": "https://localhost:8080/"
        },
        "id": "gU5aa6avlXIJ",
        "outputId": "6ed07ade-72f2-4970-ef71-7baf50d48d78"
      },
      "execution_count": 2,
      "outputs": [
        {
          "output_type": "stream",
          "name": "stdout",
          "text": [
            "   total_bill   tip     sex smoker  day    time  size\n",
            "0       16.99  1.01  Female     No  Sun  Dinner     2\n",
            "1       10.34  1.66    Male     No  Sun  Dinner     3\n",
            "2       21.01  3.50    Male     No  Sun  Dinner     3\n",
            "3       23.68  3.31    Male     No  Sun  Dinner     2\n",
            "4       24.59  3.61  Female     No  Sun  Dinner     4\n"
          ]
        }
      ]
    },
    {
      "cell_type": "code",
      "source": [
        "# melt\n",
        "melted = pd.melt(tips, id_vars=['sex', 'smoker'], value_vars=['total_bill', 'tip'], var_name='charge_type', value_name='amount')\n",
        "print(melted.head())"
      ],
      "metadata": {
        "colab": {
          "base_uri": "https://localhost:8080/"
        },
        "id": "tHQaIcjrlShB",
        "outputId": "a22403be-e868-4751-e535-0f95bca9f646"
      },
      "execution_count": 3,
      "outputs": [
        {
          "output_type": "stream",
          "name": "stdout",
          "text": [
            "      sex smoker charge_type  amount\n",
            "0  Female     No  total_bill   16.99\n",
            "1    Male     No  total_bill   10.34\n",
            "2    Male     No  total_bill   21.01\n",
            "3    Male     No  total_bill   23.68\n",
            "4  Female     No  total_bill   24.59\n"
          ]
        }
      ]
    },
    {
      "cell_type": "code",
      "source": [
        "# merge (create a simple mapping DataFrame)\n",
        "smoker_map = pd.DataFrame({'smoker': ['Yes', 'No'], 'smoker_status': ['Smoker', 'Non-Smoker']})\n",
        "merged = pd.merge(melted, smoker_map, on='smoker', how='left')\n",
        "print(merged.head())"
      ],
      "metadata": {
        "colab": {
          "base_uri": "https://localhost:8080/"
        },
        "id": "MSkkMHoMlUHw",
        "outputId": "d5387fac-df78-4576-bb9a-5164cd674fa6"
      },
      "execution_count": 4,
      "outputs": [
        {
          "output_type": "stream",
          "name": "stdout",
          "text": [
            "      sex smoker charge_type  amount smoker_status\n",
            "0  Female     No  total_bill   16.99    Non-Smoker\n",
            "1    Male     No  total_bill   10.34    Non-Smoker\n",
            "2    Male     No  total_bill   21.01    Non-Smoker\n",
            "3    Male     No  total_bill   23.68    Non-Smoker\n",
            "4  Female     No  total_bill   24.59    Non-Smoker\n"
          ]
        }
      ]
    },
    {
      "cell_type": "code",
      "source": [
        "# pivot\n",
        "pivoted = merged.pivot_table(index='sex', columns='smoker_status', values='amount', aggfunc='mean')\n",
        "print(pivoted)"
      ],
      "metadata": {
        "colab": {
          "base_uri": "https://localhost:8080/"
        },
        "id": "nyKVsaETlUDf",
        "outputId": "3d272631-eb3b-40ad-fffa-abfdce682b37"
      },
      "execution_count": 5,
      "outputs": [
        {
          "output_type": "stream",
          "name": "stdout",
          "text": [
            "smoker_status  Non-Smoker     Smoker\n",
            "sex                                 \n",
            "Female          10.439352  10.454697\n",
            "Male            11.452320  12.667833\n"
          ]
        }
      ]
    },
    {
      "cell_type": "code",
      "source": [],
      "metadata": {
        "id": "7ocKoMtlliTs"
      },
      "execution_count": null,
      "outputs": []
    }
  ]
}